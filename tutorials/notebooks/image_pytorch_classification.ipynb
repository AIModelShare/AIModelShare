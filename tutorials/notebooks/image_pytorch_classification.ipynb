{
  "nbformat": 4,
  "nbformat_minor": 0,
  "metadata": {
    "colab": {
      "name": "image_pytorch_classification.ipynb",
      "provenance": [],
      "collapsed_sections": [],
      "toc_visible": true
    },
    "kernelspec": {
      "name": "python3",
      "display_name": "Python 3"
    },
    "accelerator": "GPU"
  },
  "cells": [
    {
      "cell_type": "markdown",
      "metadata": {
        "id": "0BviI4QIdWiq"
      },
      "source": [
        "<p align=\"center\"><img width=\"50%\" src=\"https://aimodelsharecontent.s3.amazonaws.com/aimodshare_banner.jpg\" /></p>\n",
        "\n",
        "\n",
        "---\n",
        "\n",
        "\n"
      ]
    },
    {
      "cell_type": "markdown",
      "metadata": {
        "id": "gYNp684Tk3tb"
      },
      "source": [
        "<p align=\"center\"><h1 align=\"center\">Flower Image Classification with PyTorch</h1> <h3 align=\"center\">(Prepare to deploy model and preprocessor to REST API/Web Dashboard in four easy steps...)</h3></p>\n",
        "<p align=\"center\"><img width=\"80%\" src=\"https://aimodelsharecontent.s3.amazonaws.com/ModelandPreprocessorObjectPreparation.jpeg\" /></p>\n",
        "\n",
        "\n",
        "---\n",
        "\n"
      ]
    },
    {
      "cell_type": "markdown",
      "metadata": {
        "id": "gtvkt4yVNxuV"
      },
      "source": [
        "## **(1) Preprocessor Function & Setup**"
      ]
    },
    {
      "cell_type": "code",
      "metadata": {
        "id": "JxP2LPyJN3Xf",
        "outputId": "d2fe145e-1138-411e-c6d7-25edc0dfabb3",
        "colab": {
          "base_uri": "https://localhost:8080/"
        }
      },
      "source": [
        "# Importing images from tensorflow compressed .tgz file...\n",
        "FLOWERS_DIR = 'flower_photos' # Downloading to this directory drom the download URL.\n",
        "def download_images():\n",
        "  \"\"\"If the images aren't already downloaded, save them to FLOWERS_DIR.\"\"\"\n",
        "  if not os.path.exists(FLOWERS_DIR):\n",
        "    DOWNLOAD_URL = 'http://download.tensorflow.org/example_images/flower_photos.tgz'\n",
        "    print('Downloading flower images from %s...' % DOWNLOAD_URL)\n",
        "    urllib.request.urlretrieve(DOWNLOAD_URL, 'flower_photos.tgz')\n",
        "    !tar xfz flower_photos.tgz\n",
        "  print('Flower photos are located in %s' % FLOWERS_DIR)\n",
        "\n",
        "import os\n",
        "from six.moves import urllib\n",
        "\n",
        "# Download the images to flower_photos folder...\n",
        "download_images()"
      ],
      "execution_count": 2,
      "outputs": [
        {
          "output_type": "stream",
          "text": [
            "Downloading flower images from http://download.tensorflow.org/example_images/flower_photos.tgz...\n",
            "Flower photos are located in flower_photos\n"
          ],
          "name": "stdout"
        }
      ]
    },
    {
      "cell_type": "code",
      "metadata": {
        "id": "VOF3zdJNhbxe"
      },
      "source": [
        "import torch\n",
        "import torchvision\n",
        "import torchvision.transforms as transforms\n",
        "from torchvision import datasets\n",
        "from torch.utils.data.sampler import SubsetRandomSampler\n",
        "import numpy as np\n",
        "import random\n",
        "\n",
        "random.seed(42)"
      ],
      "execution_count": 4,
      "outputs": []
    },
    {
      "cell_type": "code",
      "metadata": {
        "id": "FAD2YYyThbul"
      },
      "source": [
        "data_path = 'flower_photos'"
      ],
      "execution_count": 5,
      "outputs": []
    },
    {
      "cell_type": "code",
      "metadata": {
        "id": "3abu-PFLrU86"
      },
      "source": [
        "from pathlib import Path\n",
        "\n",
        "image_paths = []\n",
        "for path in Path(data_path).rglob('*.jpg'):\n",
        "    image_paths.append(str(path))"
      ],
      "execution_count": 6,
      "outputs": []
    },
    {
      "cell_type": "markdown",
      "metadata": {
        "id": "z1ZgQTsrRbcx"
      },
      "source": [
        "### **Write a Preprocessor Function**"
      ]
    },
    {
      "cell_type": "code",
      "metadata": {
        "id": "RxQLn3gxrVAE"
      },
      "source": [
        "def preprocessor(data_path, shape):\n",
        "        \"\"\"\n",
        "        This function preprocesses/reads in images, resizes them to a fixed shape and\n",
        "        min-max transforms them before converting feature values to float32 numeric values\n",
        "        required by ONNX. (NB Use GPU for your models.)\n",
        "        \n",
        "        params:\n",
        "            data_path\n",
        "                list of unprocessed images\n",
        "            shape\n",
        "                dsize of images to be moulded into\n",
        "                      \n",
        "        returns:\n",
        "            preprocessed_img\n",
        "                preprocessed image data\n",
        "                  \n",
        "        \"\"\"\n",
        "           \n",
        "        import cv2\n",
        "\n",
        "        img = cv2.imread(data_path) # Read in the image.\n",
        "        img = cv2.cvtColor(img, cv2.COLOR_BGR2RGB)\n",
        "        img = cv2.resize(img, dsize=shape)\n",
        "        img = img / 255.0 # Normalization.\n",
        "        preprocessed_img = img.astype('float32') # float32 for ONNX.\n",
        "        return preprocessed_img"
      ],
      "execution_count": 7,
      "outputs": []
    },
    {
      "cell_type": "code",
      "metadata": {
        "id": "D4jHBVjysIwo"
      },
      "source": [
        "X = [preprocessor(x, shape=(128, 128)) for x in image_paths] # X becomes list of ndarray's with shape (128, 128, 3)."
      ],
      "execution_count": 8,
      "outputs": []
    },
    {
      "cell_type": "code",
      "metadata": {
        "id": "lHXyuoyKlMPv"
      },
      "source": [
        "classes = ('tulips', 'daisy', 'dandelion', 'sunflowers', 'roses') # Actual order from `image_paths`."
      ],
      "execution_count": 9,
      "outputs": []
    },
    {
      "cell_type": "code",
      "metadata": {
        "id": "ZCvB8JIPp_5U"
      },
      "source": [
        "import os\n",
        "import matplotlib.pyplot as plt\n",
        "\n",
        "dir = data_path\n",
        "classes = [clas.name for clas in os.scandir(dir) if clas.is_dir()]\n",
        "\n",
        "arr, y = [], []\n",
        "for clas in classes:\n",
        "    path=os.path.join(dir,clas)\n",
        "    for img in os.listdir(path):\n",
        "        arr.append(plt.imread(os.path.join(path,img)))\n",
        "        y.append(str(clas))"
      ],
      "execution_count": 10,
      "outputs": []
    },
    {
      "cell_type": "code",
      "metadata": {
        "id": "SR8KnBXk5pWc"
      },
      "source": [
        "# Reorder targets to match `image_paths`, i.e. 5, 1, 2, 3, 4. (NB Start indexing from 0.)"
      ],
      "execution_count": null,
      "outputs": []
    },
    {
      "cell_type": "code",
      "metadata": {
        "id": "ywV4EaPaxL4U"
      },
      "source": [
        "import pandas as pd\n",
        "y_ = pd.DataFrame(y)\n",
        "y_ = y_[0].map({'daisy': 4, 'dandelion': 1, # `data_paths` has 'daisy', 'dandelion', 'sunflowers', 'roses', 'tulips'...\n",
        "                'sunflowers': 2, 'roses': 3, 'tulips': 0}) # ...but `image_paths` has 'tulips' first, and 'daisy' last.\n",
        "y_ = list(y_)\n",
        "y_ = sorted(y_) # Gets us the right order."
      ],
      "execution_count": 11,
      "outputs": []
    },
    {
      "cell_type": "code",
      "metadata": {
        "id": "FL1JFQCw_X6q"
      },
      "source": [
        "target_arr = np.array(y_)"
      ],
      "execution_count": 12,
      "outputs": []
    },
    {
      "cell_type": "code",
      "metadata": {
        "id": "xm2MuZjH_7Gt",
        "outputId": "d5920df6-e681-4826-92bf-a14313b6cd13",
        "colab": {
          "base_uri": "https://localhost:8080/"
        }
      },
      "source": [
        "target_arr.shape # Check shape."
      ],
      "execution_count": 13,
      "outputs": [
        {
          "output_type": "execute_result",
          "data": {
            "text/plain": [
              "(3670,)"
            ]
          },
          "metadata": {
            "tags": []
          },
          "execution_count": 13
        }
      ]
    },
    {
      "cell_type": "code",
      "metadata": {
        "id": "1brZdLlGAAuE",
        "outputId": "4db43ee6-b31a-4ad3-cb40-d3730007b9ef",
        "colab": {
          "base_uri": "https://localhost:8080/"
        }
      },
      "source": [
        "target_arr.shape[0]"
      ],
      "execution_count": 15,
      "outputs": [
        {
          "output_type": "execute_result",
          "data": {
            "text/plain": [
              "3670"
            ]
          },
          "metadata": {
            "tags": []
          },
          "execution_count": 15
        }
      ]
    },
    {
      "cell_type": "markdown",
      "metadata": {
        "id": "Mforh-mSPZVl"
      },
      "source": [
        "`torch` tensors assume color channel is the **first** dimension, whereas `matplotlib` assumes it's the **third** dimension. Therefore always convert images (H x W x **C**) to a `torch.Tensor` of shape (**C** x H x W), and vice-versa for plotting."
      ]
    },
    {
      "cell_type": "code",
      "metadata": {
        "id": "EEbsW3aTE33K"
      },
      "source": [
        "import torch\n",
        "import numpy as np\n",
        "from torch.utils.data import TensorDataset, DataLoader\n",
        "\n",
        "tX = torch.Tensor(X) # Tensor with shape torch.Size([3670, 128, 128, 3]).\n",
        "tensor_X = np.transpose(tX, (0, 3, 1, 2)) # Tensor with shape torch.Size([3670, 3, 128, 128]).\n",
        "tensor_y = torch.from_numpy(target_arr) # Tensor with shape torch.Size([3670]).\n",
        "\n",
        "my_dataset = TensorDataset(tensor_X, tensor_y) # My datset."
      ],
      "execution_count": 16,
      "outputs": []
    },
    {
      "cell_type": "code",
      "metadata": {
        "id": "mASQFUo1E2CB"
      },
      "source": [
        "def custom_loader(dataset, batch_size, training, num_workers, **kwargs):\n",
        "\n",
        "    test_split = .2 # 20% in the test set.\n",
        "    dataset_size = len(dataset)\n",
        "    indices = list(range(dataset_size))\n",
        "    split = int(np.floor(test_split * dataset_size))\n",
        "    training_indices, test_indices = indices[split:], indices[:split]\n",
        "    sampler = {\n",
        "        'training_sampler': SubsetRandomSampler(training_indices),\n",
        "        'test_sampler': SubsetRandomSampler(test_indices)\n",
        "        }\n",
        "    my_loader = torch.utils.data.DataLoader(dataset=dataset, batch_size=batch_size,\n",
        "                                            sampler=sampler['training_sampler' if training else 'test_sampler'],\n",
        "                                            **kwargs)\n",
        "    return my_loader"
      ],
      "execution_count": 17,
      "outputs": []
    },
    {
      "cell_type": "code",
      "metadata": {
        "id": "t5k0bCEIsyCC"
      },
      "source": [
        "trainloader = custom_loader(dataset=my_dataset, batch_size=1, training=True, num_workers=4)"
      ],
      "execution_count": 18,
      "outputs": []
    },
    {
      "cell_type": "code",
      "metadata": {
        "id": "mE137MBbsysY"
      },
      "source": [
        "testloader = custom_loader(dataset=my_dataset, batch_size=1, training=False, num_workers=4)"
      ],
      "execution_count": 19,
      "outputs": []
    },
    {
      "cell_type": "code",
      "metadata": {
        "id": "s3RIYPdftAi-",
        "outputId": "124e4d10-6aaf-4434-8751-f119eb305aa0",
        "colab": {
          "base_uri": "https://localhost:8080/"
        }
      },
      "source": [
        "print(f'Number of training items: {len(trainloader)}')\n",
        "print(f'Number of test items: {len(testloader)}')"
      ],
      "execution_count": 20,
      "outputs": [
        {
          "output_type": "stream",
          "text": [
            "Number of training items: 2936\n",
            "Number of test items: 734\n"
          ],
          "name": "stdout"
        }
      ]
    },
    {
      "cell_type": "code",
      "metadata": {
        "id": "mW3JBj1mtEsm",
        "outputId": "da58713a-6f38-4a82-f223-514868c7a378",
        "colab": {
          "base_uri": "https://localhost:8080/",
          "height": 203
        }
      },
      "source": [
        "import matplotlib.pyplot as plt\n",
        "import numpy as np\n",
        "\n",
        "# Display some images...\n",
        "def imshow(img):\n",
        "  # img = img / 2 + 0.5 # Unnormalize.\n",
        "    npimg = img.numpy()\n",
        "    plt.imshow(np.transpose(npimg, (1, 2, 0))) # PyTorch tensors assume color channel is 1st dim,\n",
        "                                               # but matplotlib assumes it's the 3rd dim.\n",
        "    plt.show()\n",
        "\n",
        "# Get some random training images...\n",
        "dataiter = iter(trainloader)\n",
        "it1 = dataiter.next(); it2 = dataiter.next(); it3 = dataiter.next(); it4 = dataiter.next(); it5 = dataiter.next();\n",
        "it6 = dataiter.next(); it7 = dataiter.next(); it8 = dataiter.next(); it9 = dataiter.next(); it10 = dataiter.next()\n",
        "its = it1 + it2 + it3 + it4 + it5 + it6 + it7 + it8 + it9 + it10 # Iterations.\n",
        "\n",
        "def everyOther(list_of_tensors):\n",
        "    return list_of_tensors[::2]\n",
        "\n",
        "def theRest(list_of_tensors):\n",
        "    return list_of_tensors[1::2]\n",
        "\n",
        "images_list = everyOther(its); labels_list = theRest(its)\n",
        "images = torch.cat(images_list, 0); labels = torch.cat(labels_list, 0);\n",
        "\n",
        "# Show images...\n",
        "imshow(torchvision.utils.make_grid(images, nrow=5))\n",
        "\n",
        "# And print labels...\n",
        "print(' '.join('%5s' % classes[labels[j]] for j in range(10)))"
      ],
      "execution_count": 31,
      "outputs": [
        {
          "output_type": "display_data",
          "data": {
            "image/png": "[encoded data removed]",
            "text/plain": [
              "<Figure size 432x288 with 1 Axes>"
            ]
          },
          "metadata": {
            "tags": [],
            "needs_background": "light"
          }
        },
        {
          "output_type": "stream",
          "text": [
            "sunflowers roses dandelion tulips tulips roses sunflowers sunflowers tulips tulips\n"
          ],
          "name": "stdout"
        }
      ]
    },
    {
      "cell_type": "code",
      "metadata": {
        "id": "Ckk0I81fA1a7"
      },
      "source": [
        "use_cuda = torch.cuda.is_available()"
      ],
      "execution_count": 32,
      "outputs": []
    },
    {
      "cell_type": "code",
      "metadata": {
        "id": "YXtKTy1UEYKb"
      },
      "source": [
        "# Ensures `cuda` is used for both input data and model, so that they match:\n",
        "torch.set_default_dtype(torch.float32)\n",
        "if use_cuda:\n",
        "    torch.set_default_tensor_type(torch.cuda.FloatTensor)"
      ],
      "execution_count": 33,
      "outputs": []
    },
    {
      "cell_type": "markdown",
      "metadata": {
        "id": "Tcirg0ZuRScU"
      },
      "source": [
        "## **(2) Train Model Using `torch`**"
      ]
    },
    {
      "cell_type": "code",
      "metadata": {
        "id": "8sdjuQh636E-"
      },
      "source": [
        "def step(model, loader, train=False, optimizer=None, use_cuda=False):\n",
        "    \"\"\"\n",
        "    This function completes one epoch over the dataset (wrapped by the loader) computing\n",
        "    the losses and accuracies over the datasets. It also trains the model parameters if\n",
        "    in train mode.\n",
        "    \n",
        "    params:\n",
        "        model\n",
        "            pytorch.nn.Module object which implements a forward method to propogate over\n",
        "            the network\n",
        "            \n",
        "        loader\n",
        "            pytorch.utils.data.DataLoader which iterates over the dataset generating\n",
        "            batches of samples\n",
        "            \n",
        "        train [default=False]\n",
        "            the model is trained if this is true\n",
        "            \n",
        "        optimizer [default=None]\n",
        "            pytorch optimizer to use if in training mode\n",
        "        \n",
        "        use_cuda [default=False]\n",
        "            use gpu device if true\n",
        "        \n",
        "    returns:\n",
        "        loss\n",
        "            total loss over the dataset\n",
        "        \n",
        "        acc\n",
        "            accuracy of predictions over the dataset. This is not completely accurate as\n",
        "            we compute the accuracy while training on mini-batches\n",
        "    \"\"\"\n",
        "    \n",
        "    if train:\n",
        "        \n",
        "        assert optimizer is not None, \"Need to pass an optimizer if in train mode.\"\n",
        "\n",
        "        model.train() # Set model in training mode.\n",
        "\n",
        "    else:\n",
        "        \n",
        "        model.eval() # Set model in evaluation mode.\n",
        "\n",
        "    loss = 0\n",
        "    correct = 0\n",
        "    num_samples = 0\n",
        "\n",
        "    # Loop over mini-batches of the dataset:\n",
        "    for i, (batch_images, batch_labels) in enumerate(loader):\n",
        "        if use_cuda:\n",
        "            # Change device to cuda for the data.\n",
        "            batch_images = batch_images.cuda()\n",
        "            batch_labels = batch_labels.cuda()\n",
        "\n",
        "        # Compute outputs from the model and corresponding loss:\n",
        "        outputs = model(batch_images)\n",
        "        batch_loss = model.loss_fn(outputs, batch_labels)\n",
        "\n",
        "        loss += batch_loss.item() # Add to total loss.\n",
        "\n",
        "        if train:\n",
        "            # Step the optimizer to backprop over the model and train the parameters.\n",
        "            # This is simply one step of gradient descent however using the given optim.\n",
        "            \n",
        "            optimizer.zero_grad()\n",
        "            batch_loss.backward()\n",
        "            optimizer.step()\n",
        "\n",
        "        # Compute predicted labels and corresponding accuracy:\n",
        "        _, predicted = torch.max(outputs.data, axis=1)\n",
        "        correct += (predicted == batch_labels).sum().item()\n",
        "\n",
        "        num_samples += len(batch_labels)\n",
        "\n",
        "    loss = loss / len(loader) # loss should be averaged over batches (approx.).\n",
        "    \n",
        "    acc = correct / num_samples # acc should be computed as: \"correctly predicted samples\" / \"samples\" (approx.).\n",
        "\n",
        "    return loss, acc"
      ],
      "execution_count": 34,
      "outputs": []
    },
    {
      "cell_type": "code",
      "metadata": {
        "id": "uAwiMzyb33MD"
      },
      "source": [
        "def train(model, optimizer, train_loader, val_loader, num_epochs=30, use_cuda=False):\n",
        "    \"\"\"\n",
        "    This function trains the model for the given number of epochs while reporting the\n",
        "    results using tqdm.\n",
        "    \n",
        "    params:\n",
        "        model\n",
        "            pytorch.nn.Module object which implements a forward method to propogate over\n",
        "            the network\n",
        "            \n",
        "        optimizer\n",
        "            pytorch optimizer to use for training\n",
        "            \n",
        "        train_loader\n",
        "            pytorch.utils.data.DataLoader which specifies the training dataset\n",
        "            \n",
        "        val_loader\n",
        "            pytorch.utils.data.DataLoader which specifies the validation dataset\n",
        "            \n",
        "        num_epochs [default=30]\n",
        "            number of epochs to run training for\n",
        "        \n",
        "        use_cuda [default=False]\n",
        "            use gpu device if true\n",
        "            \n",
        "    returns:\n",
        "        train_losses\n",
        "            list of losses for training dataset\n",
        "            \n",
        "        val_losses\n",
        "            list of losses for validation dataset\n",
        "            \n",
        "        train_accs\n",
        "            list of accuracies for training dataset\n",
        "            \n",
        "        val_accs\n",
        "            list of accuracies for validation dataset\n",
        "    \"\"\"\n",
        "    \n",
        "    val_losses = list()\n",
        "    train_losses = list()\n",
        "\n",
        "    val_accs = list()\n",
        "    train_accs = list()\n",
        "\n",
        "    from tqdm import tqdm\n",
        "\n",
        "    with tqdm(range(num_epochs)) as bar:\n",
        "        bar.set_postfix(\n",
        "            {\n",
        "                \"tr_loss\": float(\"inf\"),\n",
        "                \"tr_acc\": 0.0,\n",
        "                \"val_loss\": float(\"inf\"),\n",
        "                \"val_acc\": 0.0,\n",
        "            }\n",
        "        )\n",
        "\n",
        "        # Stores weights for best model and best validation accuracy:\n",
        "\n",
        "        import copy\n",
        "        from copy import deepcopy\n",
        "\n",
        "        best_model_wts = copy.deepcopy(model.state_dict())\n",
        "        best_acc = 0.0\n",
        "\n",
        "        for epoch in bar:\n",
        "            loss = 0\n",
        "            correct = 0\n",
        "\n",
        "            tr_loss, tr_acc = step(model, train_loader,\n",
        "                                   train=True, optimizer=optimizer, use_cuda=use_cuda)\n",
        "            val_loss, val_acc = step(model, val_loader, train=False, use_cuda=use_cuda)\n",
        "\n",
        "            train_losses.append(tr_loss)\n",
        "            val_losses.append(val_loss)\n",
        "\n",
        "            train_accs.append(tr_acc)\n",
        "            val_accs.append(val_acc)\n",
        "\n",
        "            if val_acc > best_acc:\n",
        "                # Update best model weights if val_acc better than best_acc:\n",
        "                best_model_wts = copy.deepcopy(model.state_dict())\n",
        "                best_acc = val_acc\n",
        "\n",
        "            bar.set_postfix(\n",
        "                {\n",
        "                    \"tr_loss\": tr_loss,\n",
        "                    \"tr_acc\": tr_acc,\n",
        "                    \"val_loss\": val_loss,\n",
        "                    \"val_acc\": val_acc,\n",
        "                }\n",
        "            )\n",
        "        \n",
        "        model.load_state_dict(best_model_wts) # Restore best model weights encountered over all epochs.\n",
        "\n",
        "    return train_losses, val_losses, train_accs, val_accs"
      ],
      "execution_count": 35,
      "outputs": []
    },
    {
      "cell_type": "code",
      "metadata": {
        "id": "OIkSiJ8-7iG4"
      },
      "source": [
        "import torch.nn as nn\n",
        "import torch.nn.functional as F\n",
        "\n",
        "class CNN(nn.Module):\n",
        "    \"\"\"\n",
        "    Implements the CNN module for classification. The layers for this model are:\n",
        "    \n",
        "        1. Input [3 x 128 x 128]\n",
        "        2. 2D Convolution [3 x 16, kernel=5, padding=2] -> ReLU\n",
        "        3. 2D Max Pooling\n",
        "        4. 2D Convolution [16 x 32, kernel=5, padding=2] -> ReLU\n",
        "        5. Linear [1024] -> ReLU\n",
        "        6. Linear [256] -> ReLU\n",
        "        7. Linear [5] -> Softmax\n",
        "    \"\"\"\n",
        "\n",
        "    def __init__(self, loss_fn, n_classes):\n",
        "        super(CNN, self).__init__()\n",
        "\n",
        "        self.conv1 = nn.Conv2d(in_channels=3, out_channels=16, kernel_size=5, padding=2)\n",
        "        self.conv2 = nn.Conv2d(in_channels=16, out_channels=32, kernel_size=5, padding=2)\n",
        "        self.conv3 = nn.Conv2d(in_channels=32, out_channels=32, kernel_size=5, padding=2)\n",
        "\n",
        "        self.pool = nn.MaxPool2d(kernel_size=3, stride=3)\n",
        "\n",
        "        self.fc1 = nn.Linear(in_features=512, out_features=512)\n",
        "        self.fc2 = nn.Linear(in_features=512, out_features=128)\n",
        "        self.fc3 = nn.Linear(in_features=128, out_features=n_classes)\n",
        "\n",
        "        self.loss_fn = loss_fn\n",
        "\n",
        "    def forward(self, x):\n",
        "        \"\"\"\n",
        "        This function defines the forward propogation logic for the model class.\n",
        "        \"\"\"\n",
        "\n",
        "        x = self.pool(F.relu(self.conv1(x)))\n",
        "        x = self.pool(F.relu(self.conv2(x)))\n",
        "        x = self.pool(F.relu(self.conv3(x)))\n",
        "        x = x.view(x.shape[0], -1)\n",
        "        x = F.relu(self.fc1(x))\n",
        "        x = F.relu(self.fc2(x))\n",
        "        x = self.fc3(x)\n",
        "        \n",
        "        return x"
      ],
      "execution_count": 36,
      "outputs": []
    },
    {
      "cell_type": "code",
      "metadata": {
        "id": "EpdPA60B67Bd"
      },
      "source": [
        "loss_fn = nn.CrossEntropyLoss()\n",
        "model = CNN(loss_fn, len(classes))\n",
        "\n",
        "optimizer = torch.optim.Adam(model.parameters(), lr=0.0005)"
      ],
      "execution_count": 37,
      "outputs": []
    },
    {
      "cell_type": "code",
      "metadata": {
        "id": "n6jRjqf868QK",
        "outputId": "c1348781-a179-40f3-fc6f-30f218bebe0d",
        "colab": {
          "base_uri": "https://localhost:8080/"
        }
      },
      "source": [
        "model"
      ],
      "execution_count": 38,
      "outputs": [
        {
          "output_type": "execute_result",
          "data": {
            "text/plain": [
              "CNN(\n",
              "  (conv1): Conv2d(3, 16, kernel_size=(5, 5), stride=(1, 1), padding=(2, 2))\n",
              "  (conv2): Conv2d(16, 32, kernel_size=(5, 5), stride=(1, 1), padding=(2, 2))\n",
              "  (conv3): Conv2d(32, 32, kernel_size=(5, 5), stride=(1, 1), padding=(2, 2))\n",
              "  (pool): MaxPool2d(kernel_size=3, stride=3, padding=0, dilation=1, ceil_mode=False)\n",
              "  (fc1): Linear(in_features=512, out_features=512, bias=True)\n",
              "  (fc2): Linear(in_features=512, out_features=128, bias=True)\n",
              "  (fc3): Linear(in_features=128, out_features=5, bias=True)\n",
              "  (loss_fn): CrossEntropyLoss()\n",
              ")"
            ]
          },
          "metadata": {
            "tags": []
          },
          "execution_count": 38
        }
      ]
    },
    {
      "cell_type": "code",
      "metadata": {
        "id": "-yy84HvPjsTc",
        "outputId": "b2cd743d-2072-4bc0-f43a-e8cdf6ee8031",
        "colab": {
          "base_uri": "https://localhost:8080/"
        }
      },
      "source": [
        "train_losses, val_losses, train_accs, val_accs = train(\n",
        "    model, optimizer, trainloader, testloader, use_cuda=use_cuda)"
      ],
      "execution_count": 39,
      "outputs": [
        {
          "output_type": "stream",
          "text": [
            "100%|██████████| 30/30 [05:07<00:00, 10.25s/it, tr_loss=0.153, tr_acc=0.957, val_loss=18.6, val_acc=0.0177]\n"
          ],
          "name": "stderr"
        }
      ]
    },
    {
      "cell_type": "markdown",
      "metadata": {
        "id": "ABHHRNO6Q6fL"
      },
      "source": [
        "## **(3) Save Preprocessor**"
      ]
    },
    {
      "cell_type": "code",
      "metadata": {
        "id": "nUqsY5wbQ_HC"
      },
      "source": [
        "# ! pip3 install aimodelshare"
      ],
      "execution_count": null,
      "outputs": []
    },
    {
      "cell_type": "code",
      "metadata": {
        "id": "thaKITdgUW8S"
      },
      "source": [
        "def export_preprocessor(preprocessor_function, filepath):\n",
        "    import dill\n",
        "    with open(filepath, \"wb\") as f:\n",
        "        dill.dump(preprocessor_function, f)\n",
        "\n",
        "# import aimodelshare as ai # Once we can deploy this, we use it in lieu of the below.\n",
        "# ai.export_preprocessor(preprocessor, \"preprocessor.pkl\")\n",
        "\n",
        "export_preprocessor(preprocessor, \"preprocessor.pkl\")"
      ],
      "execution_count": 40,
      "outputs": []
    },
    {
      "cell_type": "markdown",
      "metadata": {
        "id": "WIDzRNBSDiC4"
      },
      "source": [
        "## **(4) Save to ONNX**"
      ]
    },
    {
      "cell_type": "code",
      "metadata": {
        "id": "XhtUa3JWUDay"
      },
      "source": [
        "dummy_input = next(iter(trainloader))[0]\n",
        "\n",
        "torch.onnx.export(\n",
        "    model.cpu(),\n",
        "    dummy_input,\n",
        "    \"my_model.onnx\",\n",
        "    export_params=True,\n",
        "    do_constant_folding=True,\n",
        ")"
      ],
      "execution_count": 43,
      "outputs": []
    }
  ]
}